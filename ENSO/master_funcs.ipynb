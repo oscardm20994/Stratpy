{
 "cells": [
  {
   "cell_type": "code",
   "execution_count": 6,
   "metadata": {},
   "outputs": [
    {
     "data": {
      "text/plain": [
       "256"
      ]
     },
     "execution_count": 6,
     "metadata": {},
     "output_type": "execute_result"
    }
   ],
   "source": [
    "import os\n",
    "import matplotlib.pyplot as plt\n",
    "import iris\n",
    "\n",
    "\n",
    "def save_and_push(fig, path_to_repo, fname):\n",
    "    import os\n",
    "    import subprocess\n",
    "\n",
    "    fig.savefig(path_to_repo + '/figures/' + fname, dpi = 300)\n",
    "    \n",
    "    commit_message = '\"added ' + fname + '\"'\n",
    "    subprocess.run('echo ls', check=True, shell=True, cwd=path_to_repo)\n",
    "\n",
    "    subprocess.run('git add .', check=True, shell=True, cwd=path_to_repo)\n",
    "    subprocess.run('git commit -m ' + commit_message, check=True, shell=True, cwd=path_to_repo)\n",
    "    subprocess.run('git push -u', check=True, shell=True, cwd=path_to_repo)\n",
    "    return\n",
    "\n",
    "def T_test(low, high):\n",
    "    p_T = scipy.stats.ttest_ind(low, high, axis=0)[1]\n",
    "    \n",
    "    return p_T\n",
    "\n",
    "#deseasonalising SLP cube function\n",
    "def seasonally_detrend(cube, year_len, tname, mode = 'surface'):\n",
    "    \"\"\"This part of the code fits an N component sine wave to the data to \n",
    "    determine a slowly varying seasonal cycle, and subtracts it, to produce\n",
    "    a seasonally detrended cube\"\"\"\n",
    "    cube_NAO = cube.copy()\n",
    "\n",
    "    ntime = len(cube_NAO.coord(tname).points)\n",
    "    \n",
    "    print(cube_NAO.aggregated_by('month', iris.analysis.MEAN)[:].coord('month').points)\n",
    "    #find seasonal cycle by aggregating\n",
    "    cycle = np.tile(cube_NAO.aggregated_by('month', iris.analysis.MEAN).data, (int(ntime/year_len),1,1))\n",
    "    \n",
    "    detrended = iris.analysis.maths.subtract(cube, cycle)\n",
    "    return detrended\n",
    "\n",
    "os.system('cp master_funcs ./SSW_responses/')    "
   ]
  },
  {
   "cell_type": "code",
   "execution_count": null,
   "metadata": {},
   "outputs": [],
   "source": []
  }
 ],
 "metadata": {
  "kernelspec": {
   "display_name": "Python 3",
   "language": "python",
   "name": "python3"
  },
  "language_info": {
   "codemirror_mode": {
    "name": "ipython",
    "version": 3
   },
   "file_extension": ".py",
   "mimetype": "text/x-python",
   "name": "python",
   "nbconvert_exporter": "python",
   "pygments_lexer": "ipython3",
   "version": "3.8.3"
  }
 },
 "nbformat": 4,
 "nbformat_minor": 4
}
